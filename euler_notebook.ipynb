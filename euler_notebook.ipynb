{
 "cells": [
  {
   "cell_type": "code",
   "execution_count": 1,
   "metadata": {},
   "outputs": [],
   "source": [
    "from calculations import *\n",
    "%load_ext autoreload\n",
    "%autoreload 2"
   ]
  },
  {
   "cell_type": "code",
   "execution_count": 2,
   "metadata": {},
   "outputs": [
    {
     "name": "stdout",
     "output_type": "stream",
     "text": [
      "233168\n"
     ]
    }
   ],
   "source": [
    "# Problem 1\n",
    "total_sum = 0\n",
    "for i in range(0, 1000):\n",
    "    if not i % 3 or not i % 5:\n",
    "        total_sum += i\n",
    "\n",
    "print(total_sum)"
   ]
  },
  {
   "cell_type": "code",
   "execution_count": 3,
   "metadata": {},
   "outputs": [
    {
     "name": "stdout",
     "output_type": "stream",
     "text": [
      "4613732\n"
     ]
    }
   ],
   "source": [
    "# Problem 2\n",
    "n = 1\n",
    "total_sum = 0\n",
    "while fib(n) <= 4000000:\n",
    "    if fib(n) % 2 == 0:\n",
    "        total_sum += fib(n)\n",
    "    n += 1\n",
    "print(total_sum)"
   ]
  },
  {
   "cell_type": "code",
   "execution_count": 4,
   "metadata": {},
   "outputs": [
    {
     "data": {
      "text/plain": [
       "6857"
      ]
     },
     "execution_count": 4,
     "metadata": {},
     "output_type": "execute_result"
    }
   ],
   "source": [
    "# Problem 3\n",
    "max_prime_factor(600851475143)"
   ]
  },
  {
   "cell_type": "code",
   "execution_count": 5,
   "metadata": {},
   "outputs": [
    {
     "name": "stdout",
     "output_type": "stream",
     "text": [
      "9009\n"
     ]
    }
   ],
   "source": [
    "# Problem 4\n",
    "current_num = 0\n",
    "largest_palindrome = 0\n",
    "for i in range(10, 100):\n",
    "    for j in range(10, 100):\n",
    "        current_num = (i * j)\n",
    "        is_palindrome = check_for_palindrome(current_num)\n",
    "        if is_palindrome and current_num > largest_palindrome:\n",
    "            largest_palindrome = current_num\n",
    "\n",
    "print(largest_palindrome)"
   ]
  },
  {
   "cell_type": "code",
   "execution_count": 6,
   "metadata": {},
   "outputs": [
    {
     "name": "stdout",
     "output_type": "stream",
     "text": [
      "232792560\n"
     ]
    }
   ],
   "source": [
    "# Problem 5\n",
    "num = 20\n",
    "is_target = False\n",
    "divisors = list(range(1, 21))\n",
    "while not is_target:\n",
    "    if(num % 2 or num % 3 or num % 4 or num % 5 or num % 6 or num % 7 or num % 8 or num % 9 or num % 10 or num % 11 or\n",
    "       num % 12 or num % 13 or num % 14 or num % 15 or num % 16 or num % 17 or num % 18 or num % 19 or num % 20):\n",
    "            num += 1\n",
    "    else:\n",
    "        is_target = True\n",
    "print(num)"
   ]
  },
  {
   "cell_type": "code",
   "execution_count": 7,
   "metadata": {},
   "outputs": [
    {
     "name": "stdout",
     "output_type": "stream",
     "text": [
      "25164150\n"
     ]
    }
   ],
   "source": [
    "# Problem 6\n",
    "sum_of_square = 0\n",
    "square_of_sum = 0\n",
    "difference = 0\n",
    "_sum = 0\n",
    "for i in range(101):\n",
    "    sum_of_square += i ** 2\n",
    "\n",
    "for i in range(101):\n",
    "    _sum += i\n",
    "\n",
    "square_of_sum = _sum ** 2\n",
    "difference = square_of_sum - sum_of_square\n",
    "print(difference)"
   ]
  },
  {
   "cell_type": "code",
   "execution_count": 8,
   "metadata": {},
   "outputs": [
    {
     "name": "stdout",
     "output_type": "stream",
     "text": [
      "104743\n"
     ]
    }
   ],
   "source": [
    "# Problem 7\n",
    "count = 0\n",
    "current_number = 0\n",
    "while count != 10001:\n",
    "    num_is_prime = isprime(current_number)\n",
    "    if num_is_prime:\n",
    "        count += 1\n",
    "    if count == 10001:\n",
    "        print(current_number)\n",
    "    current_number += 1"
   ]
  },
  {
   "cell_type": "code",
   "execution_count": 9,
   "metadata": {},
   "outputs": [
    {
     "name": "stdout",
     "output_type": "stream",
     "text": [
      "23514624000\n"
     ]
    }
   ],
   "source": [
    "# Problem 8\n",
    "s = \"7316717653133062491922511967442657474235534919493496983520312774506326239578318016984801869478851843858615607891129494954595017379583319528532088055111254069874715852386305071569329096329522744304355766896648950445244523161731856403098711121722383113622298934233803081353362766142828064444866452387493035890729629049156044077239071381051585930796086670172427121883998797908792274921901699720888093776657273330010533678812202354218097512545405947522435258490771167055601360483958644670632441572215539753697817977846174064955149290862569321978468622482839722413756570560574902614079729686524145351004748216637048440319989000889524345065854122758866688116427171479924442928230863465674813919123162824586178664583591245665294765456828489128831426076900422421902267105562632111110937054421750694165896040807198403850962455444362981230987879927244284909188845801561660979191338754992005240636899125607176060588611646710940507754100225698315520005593572972571636269561882670428252483600823257530420752963450\"\n",
    "\n",
    "largestProduct = 0\n",
    "\n",
    "for i in range(0, len(s) - 13):\n",
    "\n",
    "    product = 1\n",
    "\n",
    "    for j in range(i, i + 13):\n",
    "        product *= int(s[j: j + 1])\n",
    "\n",
    "    if product > largestProduct:\n",
    "        largestProduct = product\n",
    "\n",
    "print(largestProduct)\n"
   ]
  },
  {
   "cell_type": "code",
   "execution_count": 10,
   "metadata": {},
   "outputs": [
    {
     "name": "stdout",
     "output_type": "stream",
     "text": [
      "31875000\n",
      "200 375 425\n"
     ]
    }
   ],
   "source": [
    "# Problem 9\n",
    "num_list = range(1, 1000)\n",
    "special_triplet = False\n",
    "\n",
    "for a in num_list:\n",
    "    for b in range(a, 1000 - a):\n",
    "        for c in range(b, 1000 - b):\n",
    "            if a + b + c == 1000:\n",
    "                if a ** 2 + b ** 2 == c ** 2:\n",
    "                    special_triplet = True\n",
    "                    print(a * b * c)\n",
    "                    print(a, b, c)\n",
    "                else:\n",
    "                    special_triplet = False\n"
   ]
  },
  {
   "cell_type": "code",
   "execution_count": 11,
   "metadata": {},
   "outputs": [
    {
     "name": "stdout",
     "output_type": "stream",
     "text": [
      "142913828922\n"
     ]
    }
   ],
   "source": [
    "# Problem 10\n",
    "sum_of_primes = 0\n",
    "\n",
    "for i in range(2000000):\n",
    "    prime_check = isprime(i)\n",
    "    if prime_check:\n",
    "        sum_of_primes += i\n",
    "\n",
    "print(sum_of_primes)\n"
   ]
  },
  {
   "cell_type": "code",
   "execution_count": 12,
   "metadata": {},
   "outputs": [],
   "source": [
    "# Problem 11\n",
    "# Solved by guess and check"
   ]
  },
  {
   "cell_type": "code",
   "execution_count": 13,
   "metadata": {},
   "outputs": [
    {
     "name": "stdout",
     "output_type": "stream",
     "text": [
      "76576500\n"
     ]
    }
   ],
   "source": [
    "# Problem 12\n",
    "triangle_number_n = 0\n",
    "i = 1\n",
    "\n",
    "while num_factors(triangle_number_n) < 500:\n",
    "    triangle_number_n += i\n",
    "    i += 1\n",
    "\n",
    "print(triangle_number_n)"
   ]
  },
  {
   "cell_type": "code",
   "execution_count": 14,
   "metadata": {},
   "outputs": [],
   "source": [
    "import inflect"
   ]
  },
  {
   "cell_type": "code",
   "execution_count": 15,
   "metadata": {},
   "outputs": [
    {
     "name": "stdout",
     "output_type": "stream",
     "text": [
      "24531\n"
     ]
    }
   ],
   "source": [
    "p = inflect.engine()\n",
    "list_of_numbers = []\n",
    "sum_of_length = 0\n",
    "for i in range(1001):\n",
    "    list_of_numbers.append(p.number_to_words(i))\n",
    "    \n",
    "for element in list_of_numbers:\n",
    "    element.replace(' ', '')\n",
    "    if '-' in element:\n",
    "        element.replace('-', '')\n",
    "    sum_of_length += int(len(element))\n",
    "    \n",
    "print(sum_of_length)"
   ]
  },
  {
   "cell_type": "code",
   "execution_count": 16,
   "metadata": {},
   "outputs": [
    {
     "name": "stdout",
     "output_type": "stream",
     "text": [
      "21124\n"
     ]
    }
   ],
   "source": [
    "S = [0,3,3,5,4,4,3,5,5,4,3,6,6,8,8,7,7,9,8,8]\n",
    "D = [0,3,6,6,5,5,5,7,6,6]\n",
    "H = 7\n",
    "T = 8\n",
    " \n",
    "total = 0\n",
    "for i in range(1,1000):\n",
    "    c = int(i % 10) # singles digit\n",
    "    b = int(((i % 100) - c) / 10) # tens digit\n",
    "    a = int(((i % 1000) - (b * 10) - c) / 100) # hundreds digit\n",
    " \n",
    "    if int(a) != 0:\n",
    "        total += S[a] + H # \"S[a] hundred\n",
    "        if int(b) != 0 or int(c) != 0: \n",
    "            total += 3 # \"and\"\n",
    "    if int(b) == 0 or int(b) == 1: \n",
    "        total += S[b * 10 + c]\n",
    "    else: \n",
    "        total += D[b] + S[c]\n",
    " \n",
    "total += S[1] + T\n",
    "\n",
    "print(total)"
   ]
  },
  {
   "cell_type": "code",
   "execution_count": 2,
   "metadata": {},
   "outputs": [
    {
     "data": {
      "text/plain": [
       "49995000"
      ]
     },
     "execution_count": 2,
     "metadata": {},
     "output_type": "execute_result"
    }
   ],
   "source": [
    "total_sum = 0\n",
    "for i in range(1,10001):\n",
    "    for j in range(i + 1, 10001):\n",
    "        total_sum += 1\n",
    "\n",
    "total_sum"
   ]
  },
  {
   "cell_type": "code",
   "execution_count": null,
   "metadata": {},
   "outputs": [],
   "source": []
  }
 ],
 "metadata": {
  "kernelspec": {
   "display_name": "Python 3",
   "language": "python",
   "name": "python3"
  },
  "language_info": {
   "codemirror_mode": {
    "name": "ipython",
    "version": 3
   },
   "file_extension": ".py",
   "mimetype": "text/x-python",
   "name": "python",
   "nbconvert_exporter": "python",
   "pygments_lexer": "ipython3",
   "version": "3.6.9"
  }
 },
 "nbformat": 4,
 "nbformat_minor": 4
}
